{
 "cells": [
  {
   "cell_type": "markdown",
   "metadata": {},
   "source": [
    "# Group 16: SIT307 Machine Learning Group Project (Assignment 3)"
   ]
  },
  {
   "cell_type": "markdown",
   "metadata": {},
   "source": [
    "<br>\n",
    "Dataset Selected: <b>COVID-19 World Vaccination Progress</b>\n",
    "\n",
    "Found at: https://www.kaggle.com/gpreda/covid-world-vaccination-progress\n",
    "\n",
    "Collected by: <b>Gabriel Preda</b>\n",
    "\n",
    "Updated: <b>Daily</b>\n",
    "\n",
    "Date of download used: <b>17th May 2021</b>\n",
    "\n",
    "<br><br>\n",
    "<b>Supplementary data sets found at:</b>\n",
    "\n",
    "https://www.kaggle.com/tanuprabhu/population-by-country-2020\n",
    "\n",
    "https://data.worldbank.org/indicator/NY.GDP.MKTP.CD"
   ]
  },
  {
   "cell_type": "markdown",
   "metadata": {},
   "source": [
    "#### Import libraries used"
   ]
  },
  {
   "cell_type": "code",
   "execution_count": 58,
   "metadata": {},
   "outputs": [],
   "source": [
    "# import libraries used\n",
    "import numpy as np\n",
    "import pandas as pd\n",
    "pd.set_option('precision', 2)\n",
    "import matplotlib\n",
    "import matplotlib.pyplot as plt\n",
    "import seaborn as sns\n",
    "from mpl_toolkits.mplot3d import Axes3D\n",
    "%matplotlib inline\n",
    "from scipy import stats\n",
    "from sklearn import metrics\n",
    "from sklearn.linear_model import LinearRegression\n",
    "from sklearn.model_selection import train_test_split\n",
    "from datetime import datetime\n",
    "import datetime as dt\n",
    "pd.set_option('float_format', '{:f}'.format)\n",
    "\n",
    "import warnings\n",
    "warnings.filterwarnings('ignore')"
   ]
  },
  {
   "cell_type": "markdown",
   "metadata": {},
   "source": [
    "### Functions Used in this Notebook"
   ]
  },
  {
   "cell_type": "code",
   "execution_count": 59,
   "metadata": {},
   "outputs": [],
   "source": [
    "\"\"\" \n",
    "    Funtion that calculates mean squared error after scaling\n",
    "    Requires:\n",
    "        predictions made by model\n",
    "        Ytest correct outcomes\n",
    "\"\"\"\n",
    "def MSE(predictions, Ytest, decimal_places):\n",
    "    # take predictions and Y test set as dataframe\n",
    "    preds_mse = pd.DataFrame(predictions)\n",
    "    Ytest_mse = pd.DataFrame(Ytest)\n",
    "    \n",
    "    # take the max of prediction and scale all predicitons\n",
    "    pred_max = preds_mse.max()\n",
    "    preds_mse = preds_mse / pred_max\n",
    "\n",
    "    # take the max of Y test and scale all Y test values\n",
    "    Ytest_max = Ytest_mse.max()\n",
    "    Ytest_mse = Ytest_mse / Ytest_max \n",
    "    \n",
    "    # return MSE of scaled data\n",
    "    return round(list(np.mean((preds_mse - Ytest_mse) ** 2))[0], decimal_places)"
   ]
  },
  {
   "cell_type": "code",
   "execution_count": 60,
   "metadata": {},
   "outputs": [],
   "source": [
    "\"\"\" \n",
    "    Funtion to convert date in string format to ordinal\n",
    "    Requires:\n",
    "        a date in string format (DD/MM/YYYY)\n",
    "\"\"\"\n",
    "def date_to_ordinal(date):\n",
    "    # return the date provided as a string in d, m, y to date and then ordinal\n",
    "    return datetime.strptime(date, '%d/%m/%Y').date().toordinal()"
   ]
  },
  {
   "cell_type": "code",
   "execution_count": 61,
   "metadata": {},
   "outputs": [],
   "source": [
    "\"\"\" \n",
    "    Funtion to convert date column in string/object format to ordinal\n",
    "    Requires:\n",
    "        a date column in a dataframe\n",
    "\"\"\"\n",
    "def date_to_ordinal_df(df):\n",
    "    # convert column to datetime\n",
    "    df['date'] = pd.to_datetime(df['date'])\n",
    "    # map all dates to ordinal data\n",
    "    df['date'] = df['date'].map(dt.datetime.toordinal)\n",
    "    return df"
   ]
  },
  {
   "cell_type": "code",
   "execution_count": 62,
   "metadata": {},
   "outputs": [],
   "source": [
    "\"\"\" \n",
    "    Funtion to convert ordinal number to date format\n",
    "    Requires:\n",
    "        an ordinal number (int)\n",
    "\"\"\"\n",
    "def ordinal_to_datetime(ordinal):\n",
    "    # convery ordinal to an integer\n",
    "    ordinal_to_datetime = int(ordinal)\n",
    "    # change ordinal to a date and return\n",
    "    ordinal_to_datetime = dt.date.fromordinal(abs(ordinal_to_datetime))\n",
    "    return ordinal_to_datetime"
   ]
  },
  {
   "cell_type": "code",
   "execution_count": 63,
   "metadata": {},
   "outputs": [],
   "source": [
    "\"\"\" \n",
    "    Funtion to convert date column in ordianl format to date\n",
    "    Requires:\n",
    "        a date column in a dataframe in ordinal (ints)\n",
    "\"\"\"\n",
    "def ordinal_to_datetime_arr(arr):\n",
    "    # set up a new array\n",
    "    new_arr = []\n",
    "    # loop through each number passed\n",
    "    for num in arr:\n",
    "        #convert number to an int\n",
    "        num = int(num)\n",
    "        # cast ordinal to date and append to new array\n",
    "        new_arr.append(dt.date.fromordinal(abs(num)))\n",
    "    # return the array as datetime\n",
    "    return new_arr"
   ]
  },
  {
   "cell_type": "code",
   "execution_count": 64,
   "metadata": {},
   "outputs": [],
   "source": [
    "\"\"\" \n",
    "    Funtion that plots linear regression and real data\n",
    "    Requires:\n",
    "        X data set\n",
    "        Y data set\n",
    "        X test data set\n",
    "        predictions made by model\n",
    "\"\"\"\n",
    "def plot_LR(X, Y, Xtest, predictions):\n",
    "    # Plot real data\n",
    "    plt.scatter(X, Y,  color='red', s=5)\n",
    "    #plot linear regression line\n",
    "    plt.plot(Xtest, predictions, color='blue', linewidth=3)\n",
    "    # set x ticks\n",
    "    plt.xticks(rotation=90)\n",
    "\n",
    "    # show plot\n",
    "    plt.show()"
   ]
  },
  {
   "cell_type": "markdown",
   "metadata": {},
   "source": [
    "<br>"
   ]
  },
  {
   "cell_type": "markdown",
   "metadata": {},
   "source": [
    "### Prediction of date by which provided number of people in a country will be vaccinated"
   ]
  },
  {
   "cell_type": "code",
   "execution_count": 65,
   "metadata": {},
   "outputs": [],
   "source": [
    "# Read the cleaned dataset to new data frame and country populations\n",
    "vaccination = pd.read_csv('data/cleaned_vaccination.csv')\n",
    "country_pop = pd.read_csv('data/population_by_country_2020.csv')"
   ]
  },
  {
   "cell_type": "code",
   "execution_count": 66,
   "metadata": {},
   "outputs": [
    {
     "name": "stdout",
     "output_type": "stream",
     "text": [
      "(17607, 3)\n",
      "(235, 2)\n"
     ]
    }
   ],
   "source": [
    "# Select country, date people vaccinated and population columns\n",
    "vaccination_1 = vaccination[['country', 'date', 'people_vaccinated']]\n",
    "country_pop = country_pop[['Country (or dependency)','Population (2020)']]\n",
    "\n",
    "# Print the shape\n",
    "print(vaccination_1.shape)\n",
    "print(country_pop.shape)"
   ]
  },
  {
   "cell_type": "code",
   "execution_count": 67,
   "metadata": {},
   "outputs": [
    {
     "name": "stdout",
     "output_type": "stream",
     "text": [
      "(9526, 3)\n"
     ]
    }
   ],
   "source": [
    "# Remove the rows with NA values of people vaccinated\n",
    "vaccination_1 = vaccination_1[vaccination_1['people_vaccinated'].notna()]\n",
    "\n",
    "# Print the shape after the removal\n",
    "print(vaccination_1.shape)"
   ]
  },
  {
   "cell_type": "code",
   "execution_count": 68,
   "metadata": {},
   "outputs": [
    {
     "data": {
      "text/html": [
       "<div>\n",
       "<style scoped>\n",
       "    .dataframe tbody tr th:only-of-type {\n",
       "        vertical-align: middle;\n",
       "    }\n",
       "\n",
       "    .dataframe tbody tr th {\n",
       "        vertical-align: top;\n",
       "    }\n",
       "\n",
       "    .dataframe thead th {\n",
       "        text-align: right;\n",
       "    }\n",
       "</style>\n",
       "<table border=\"1\" class=\"dataframe\">\n",
       "  <thead>\n",
       "    <tr style=\"text-align: right;\">\n",
       "      <th></th>\n",
       "      <th>country</th>\n",
       "      <th>date</th>\n",
       "      <th>people_vaccinated</th>\n",
       "    </tr>\n",
       "  </thead>\n",
       "  <tbody>\n",
       "    <tr>\n",
       "      <th>0</th>\n",
       "      <td>Afghanistan</td>\n",
       "      <td>737843</td>\n",
       "      <td>0.000000</td>\n",
       "    </tr>\n",
       "    <tr>\n",
       "      <th>6</th>\n",
       "      <td>Afghanistan</td>\n",
       "      <td>737849</td>\n",
       "      <td>8200.000000</td>\n",
       "    </tr>\n",
       "    <tr>\n",
       "      <th>22</th>\n",
       "      <td>Afghanistan</td>\n",
       "      <td>737865</td>\n",
       "      <td>54000.000000</td>\n",
       "    </tr>\n",
       "    <tr>\n",
       "      <th>44</th>\n",
       "      <td>Afghanistan</td>\n",
       "      <td>737887</td>\n",
       "      <td>120000.000000</td>\n",
       "    </tr>\n",
       "    <tr>\n",
       "      <th>59</th>\n",
       "      <td>Afghanistan</td>\n",
       "      <td>737902</td>\n",
       "      <td>240000.000000</td>\n",
       "    </tr>\n",
       "    <tr>\n",
       "      <th>...</th>\n",
       "      <td>...</td>\n",
       "      <td>...</td>\n",
       "      <td>...</td>\n",
       "    </tr>\n",
       "    <tr>\n",
       "      <th>17602</th>\n",
       "      <td>Zimbabwe</td>\n",
       "      <td>737918</td>\n",
       "      <td>509274.000000</td>\n",
       "    </tr>\n",
       "    <tr>\n",
       "      <th>17603</th>\n",
       "      <td>Zimbabwe</td>\n",
       "      <td>737919</td>\n",
       "      <td>526066.000000</td>\n",
       "    </tr>\n",
       "    <tr>\n",
       "      <th>17604</th>\n",
       "      <td>Zimbabwe</td>\n",
       "      <td>737920</td>\n",
       "      <td>529360.000000</td>\n",
       "    </tr>\n",
       "    <tr>\n",
       "      <th>17605</th>\n",
       "      <td>Zimbabwe</td>\n",
       "      <td>737921</td>\n",
       "      <td>539526.000000</td>\n",
       "    </tr>\n",
       "    <tr>\n",
       "      <th>17606</th>\n",
       "      <td>Zimbabwe</td>\n",
       "      <td>737922</td>\n",
       "      <td>549797.000000</td>\n",
       "    </tr>\n",
       "  </tbody>\n",
       "</table>\n",
       "<p>9526 rows × 3 columns</p>\n",
       "</div>"
      ],
      "text/plain": [
       "           country    date  people_vaccinated\n",
       "0      Afghanistan  737843           0.000000\n",
       "6      Afghanistan  737849        8200.000000\n",
       "22     Afghanistan  737865       54000.000000\n",
       "44     Afghanistan  737887      120000.000000\n",
       "59     Afghanistan  737902      240000.000000\n",
       "...            ...     ...                ...\n",
       "17602     Zimbabwe  737918      509274.000000\n",
       "17603     Zimbabwe  737919      526066.000000\n",
       "17604     Zimbabwe  737920      529360.000000\n",
       "17605     Zimbabwe  737921      539526.000000\n",
       "17606     Zimbabwe  737922      549797.000000\n",
       "\n",
       "[9526 rows x 3 columns]"
      ]
     },
     "execution_count": 68,
     "metadata": {},
     "output_type": "execute_result"
    }
   ],
   "source": [
    "# Change the object date to date time format and then to ordinal so that it can be used in Linear Regression\n",
    "date_to_ordinal_df(vaccination_1)"
   ]
  },
  {
   "cell_type": "code",
   "execution_count": 69,
   "metadata": {},
   "outputs": [],
   "source": [
    "\"\"\" \n",
    "    Function finds the date at which for a given country's poppulation would be vaccinated\n",
    "    Requires:\n",
    "        -the pandas dataframe being worked on\n",
    "        -a valid country in string format, and\n",
    "        -population\n",
    "\"\"\"\n",
    "def population_vaccinated_by_date(df, country, pop, plot):\n",
    "    # To check for exceptions during the training of data \n",
    "    try:\n",
    "        # To create a Linear Regression model\n",
    "        LR = LinearRegression()\n",
    "    \n",
    "        # Select the data of a given country\n",
    "        df = df[df['country'] == country]\n",
    "    \n",
    "        # Assign values to X and Y variables\n",
    "        X = np.array(df['date']).reshape((-1, 1))\n",
    "        Y = np.array(df['people_vaccinated'])\n",
    "    \n",
    "        # Split the training and test data using 30% for testing\n",
    "        Xtrain, Xtest, Ytrain, Ytest = train_test_split(X, Y, test_size=0.3, random_state=19)\n",
    "    \n",
    "        # Train the model\n",
    "        LR.fit(Xtrain, Ytrain)\n",
    "    \n",
    "        # Test on the test set\n",
    "        predictions = LR.predict(Xtest)\n",
    "\n",
    "        # Calculate the mean squared error\n",
    "        mse = MSE(predictions, Ytest, 3)\n",
    "        \n",
    "        # Determine the date for a given population \n",
    "        expected_date = (LR.intercept_ - pop )/LR.coef_\n",
    "        \n",
    "        if plot:\n",
    "            # Plot the Linear Regression\n",
    "            plt.title(\"Date VS Population \\n\",fontsize = 18,fontweight='bold')\n",
    "            plt.ylabel(\"Population in Ten Million\\n\",fontsize = 15,fontweight='bold')\n",
    "            plt.xlabel(\"\\nDate\",fontsize = 15,fontweight='bold')\n",
    "            plot_LR(ordinal_to_datetime_arr(X), Y, ordinal_to_datetime_arr(Xtest), predictions)\n",
    "            \n",
    "        # Return the expected date for number of people vaccinated of a given country,\n",
    "        # mean squared error, Y intercept and coeffecient\n",
    "        return expected_date, mse, LR.intercept_, LR.coef_\n",
    "\n",
    "    except:\n",
    "        # If the given country does not have data, print that the country has no data\n",
    "        # for people vaccinated\n",
    "        print(country, \"has no data for people vaccinated.\")\n",
    "        return False, False, False, False"
   ]
  },
  {
   "cell_type": "code",
   "execution_count": 70,
   "metadata": {
    "scrolled": true
   },
   "outputs": [
    {
     "data": {
      "image/png": "[encoded data removed]",
      "text/plain": [
       "<Figure size 432x288 with 1 Axes>"
      ]
     },
     "metadata": {
      "needs_background": "light"
     },
     "output_type": "display_data"
    },
    {
     "name": "stdout",
     "output_type": "stream",
     "text": [
      "\n",
      "The MSE for this model is 0.002\n",
      "\n",
      "We predict that by 2021-09-12, United States will have 300000000 people vaccinated.\n"
     ]
    }
   ],
   "source": [
    "# Select a country for analysis\n",
    "country_num = 'United States'\n",
    "\n",
    "# Select the number of people \n",
    "pop_num = 300000000\n",
    "\n",
    "population_country = country_pop.loc[country_pop['Country (or dependency)'] == country_num].iat[0,1]\n",
    "\n",
    "if(pop_num > population_country):\n",
    "    date, mse, y_intercept, slope = population_vaccinated_by_date(vaccination_1, country_num, population_country, True)\n",
    "    print(\"The entered number of people is greater than the population of {0}, but the total population will be vaccinated by {1}\".format((country_num), ordinal_to_datetime(date)))\n",
    "else:\n",
    "    # Call the function with the dataset, country name and number of people and plot the result\n",
    "    date, mse, y_intercept, slope = population_vaccinated_by_date(vaccination_1, country_num, pop_num, True)\n",
    "\n",
    "    # Print the mean squared error for the model\n",
    "    print()\n",
    "    print(\"The MSE for this model is {0}\".format(mse))\n",
    "    print()\n",
    "\n",
    "    # Print the prediction\n",
    "    print(\"We predict that by {2}, {1} will have {0} people vaccinated.\".format(pop_num, country_num, ordinal_to_datetime(date)))"
   ]
  },
  {
   "cell_type": "markdown",
   "metadata": {},
   "source": [
    "<br>"
   ]
  },
  {
   "cell_type": "markdown",
   "metadata": {},
   "source": [
    "\n",
    "### Prediction of How Many People a Country Will Have Vaccinated by a Provided Date\n",
    "\n",
    "Implementing univariant linear regression on people_vaccinated by date for different countries. Providing a country and a date, this section will predict how many people the country provided will have vaccinated by the given date.\n",
    "<br>"
   ]
  },
  {
   "cell_type": "code",
   "execution_count": 71,
   "metadata": {},
   "outputs": [],
   "source": [
    "# read in cleaned dataset to new data frame and country populations\n",
    "vaccination = pd.read_csv('data/cleaned_vaccination.csv')\n",
    "country_pop = pd.read_csv('data/population_by_country_2020.csv')"
   ]
  },
  {
   "cell_type": "code",
   "execution_count": 72,
   "metadata": {},
   "outputs": [
    {
     "name": "stdout",
     "output_type": "stream",
     "text": [
      "(17607, 3)\n",
      "(235, 2)\n"
     ]
    }
   ],
   "source": [
    "# take only the columns of interest\n",
    "vaccination_2 = vaccination[['country', 'date', 'people_vaccinated']]\n",
    "country_pop = country_pop[['Country (or dependency)','Population (2020)']]\n",
    "\n",
    "# show this shape\n",
    "print(vaccination_2.shape)\n",
    "print(country_pop.shape)"
   ]
  },
  {
   "cell_type": "code",
   "execution_count": 73,
   "metadata": {},
   "outputs": [
    {
     "name": "stdout",
     "output_type": "stream",
     "text": [
      "(9526, 3)\n"
     ]
    }
   ],
   "source": [
    "# drop all na rows where no data for people fully vaccinated per hundred\n",
    "vaccination_2 = vaccination_2[vaccination_2['people_vaccinated'].notna()]\n",
    "\n",
    "# print the new shape\n",
    "print(vaccination_2.shape)"
   ]
  },
  {
   "cell_type": "code",
   "execution_count": 74,
   "metadata": {},
   "outputs": [],
   "source": [
    "# change date object to date time and then ordinal to be used in linear regression\n",
    "vaccination_2 = date_to_ordinal_df(vaccination_2)"
   ]
  },
  {
   "cell_type": "code",
   "execution_count": 75,
   "metadata": {},
   "outputs": [],
   "source": [
    "\"\"\" \n",
    "    Funtion to determine the number of the given countries population vaccinated at the provided date\n",
    "    Requires:\n",
    "        the pandas dataframe being worked on\n",
    "        a valid country in string format, and\n",
    "        a date in string format (DD/MM/YYYY)\n",
    "\"\"\"\n",
    "def numbers_vaccinated_at_date(df, country, date, plot):\n",
    "    # try except to catch countries with no data in people_fully_vaccinated_per_hundred\n",
    "    try:\n",
    "        # create a linear regression model\n",
    "        LR = LinearRegression()\n",
    "    \n",
    "        #change date passed to datetime then ordinal data\n",
    "        date = date_to_ordinal(date)\n",
    "    \n",
    "        # take only the portion of the data frame that relates to a specific country\n",
    "        df = df[df['country'] == country]\n",
    "    \n",
    "        # get X and Y variables\n",
    "        X = np.array(df['date']).reshape((-1, 1))\n",
    "        Y = np.array(df['people_vaccinated'])\n",
    "    \n",
    "        # Split the training and test data using 30% for testing\n",
    "        Xtrain, Xtest, Ytrain, Ytest = train_test_split(X, Y, test_size=0.3, random_state=19)\n",
    "    \n",
    "        # train the model\n",
    "        LR.fit(Xtrain, Ytrain)\n",
    "    \n",
    "        # test on test set\n",
    "        predictions = LR.predict(Xtest)\n",
    "\n",
    "        # calculate the mean square error\n",
    "        mse = MSE(predictions, Ytest, 3)\n",
    "        \n",
    "        if plot:\n",
    "            # set labels\n",
    "            plt.title(\"Date VS Population\\n\",fontsize = 18,fontweight='bold')\n",
    "            plt.ylabel(\"Population in Ten Millions\\n\",fontsize = 15,fontweight='bold')\n",
    "            plt.xlabel(\"\\nDate\",fontsize = 15,fontweight='bold')\n",
    "            # Plot LR\n",
    "            plot_LR(ordinal_to_datetime_arr(X), Y, ordinal_to_datetime_arr(Xtest), predictions)\n",
    "    \n",
    "        # return the number of people vaccinated at the given date,\n",
    "        # the mean squared error, the Y intercept and the slope\n",
    "        return (LR.intercept_ + LR.coef_ * date), mse, LR.intercept_, LR.coef_\n",
    "    \n",
    "    except:\n",
    "        # if country doesnt have this data let the user know\n",
    "        print(\"{0} has no data for people_vaccinated\".format(country))\n",
    "        return False, False, False, False"
   ]
  },
  {
   "cell_type": "code",
   "execution_count": 76,
   "metadata": {},
   "outputs": [
    {
     "data": {
      "image/png": "[encoded data removed]",
      "text/plain": [
       "<Figure size 432x288 with 1 Axes>"
      ]
     },
     "metadata": {
      "needs_background": "light"
     },
     "output_type": "display_data"
    },
    {
     "name": "stdout",
     "output_type": "stream",
     "text": [
      "The mean squared error of this model is 0.002.\n",
      "\n",
      "United States will have 313155539 people fully vaccined by the date 23/09/2021 based on current tracking.\n"
     ]
    }
   ],
   "source": [
    "# determine a country to investigate\n",
    "country_num = 'United States'\n",
    "# determine a date\n",
    "date_num = '23/09/2021'\n",
    "\n",
    "# call function with the dataset, country and date\n",
    "# store returned values to be printed\n",
    "pop_at_date, mse_num, y_intercept, slope = numbers_vaccinated_at_date(vaccination_2, country_num, date_num, True)\n",
    "\n",
    "if pop_at_date == False:\n",
    "    pass\n",
    "else:\n",
    "    # show the MSE to determine how accurate the model is\n",
    "    print(\"The mean squared error of this model is {0}.\".format(mse_num))\n",
    "    print()\n",
    "    \n",
    "    # get population of provided country\n",
    "    population = country_pop.loc[country_pop['Country (or dependency)'] == country_num].iat[0,1]\n",
    "    \n",
    "    # check if country is full vaccinated and tell user that, or print where the country will be at\n",
    "    if pop_at_date >= population:\n",
    "        print(\"{0} with a population of {1} will be full vaccinated at this date: {2}\".format(country_num, round(population), date_num))\n",
    "        date_target, mse_target, y_intercept, slope = population_vaccinated_by_date(vaccination_2, country_num, population, False)\n",
    "        print(\"It is predicted the {0} will fully vaccinate their population on {1}.\".format(country_num, ordinal_to_datetime(date_target)))\n",
    "    else:\n",
    "        # print data\n",
    "        print(\"{0} will have {1} people fully vaccined by the date {2} based on current tracking.\".format(country_num, str(round(pop_at_date[0])), date_num))"
   ]
  },
  {
   "cell_type": "markdown",
   "metadata": {},
   "source": [
    "<br>"
   ]
  },
  {
   "cell_type": "markdown",
   "metadata": {},
   "source": [
    "### Prediction of What Date a Country Will Have Vaccinated a Provided Percentage of Their Population\n",
    "\n",
    "Implementing univariant linear regression on people fully vaccinated per hundred by date for different countries. Providing a country and a target percentage, this section will predict what date the country provided will achieve the target percentage of population vaccinated.\n",
    "<br>"
   ]
  },
  {
   "cell_type": "code",
   "execution_count": 77,
   "metadata": {},
   "outputs": [],
   "source": [
    "# read in cleaned dataset\n",
    "vaccination = pd.read_csv('data/cleaned_vaccination.csv')"
   ]
  },
  {
   "cell_type": "code",
   "execution_count": 78,
   "metadata": {},
   "outputs": [
    {
     "name": "stdout",
     "output_type": "stream",
     "text": [
      "(17607, 3)\n"
     ]
    }
   ],
   "source": [
    "# take only the columns of interest\n",
    "vaccination_3 = vaccination[['country', 'date', 'people_fully_vaccinated_per_hundred']]\n",
    "\n",
    "# show this shape\n",
    "print(vaccination_3.shape)"
   ]
  },
  {
   "cell_type": "code",
   "execution_count": 79,
   "metadata": {},
   "outputs": [
    {
     "name": "stdout",
     "output_type": "stream",
     "text": [
      "(7185, 3)\n"
     ]
    }
   ],
   "source": [
    "# drop all na rows where no data for people fully vaccinated per hundred\n",
    "vaccination_3 = vaccination_3[vaccination_3['people_fully_vaccinated_per_hundred'].notna()]\n",
    "\n",
    "# change date object to ordinal to be used in linear regression\n",
    "date_to_ordinal_df(vaccination_3)\n",
    "\n",
    "# print the new shape\n",
    "print(vaccination_3.shape)"
   ]
  },
  {
   "cell_type": "code",
   "execution_count": 80,
   "metadata": {},
   "outputs": [],
   "source": [
    "\"\"\" \n",
    "    Function to find a date of the given target percentage for the population fully vaccinated\n",
    "    Requires:\n",
    "        -the pandas dataframe being worked on\n",
    "        -a valid country in string format, and\n",
    "        -target percentage\n",
    "\"\"\"\n",
    "def date_to_be_target_percentage(df, country, percentage, plot):\n",
    "    # try except to catch countries with no data in people_fully_vaccinated_per_hundred\n",
    "    try:\n",
    "        # create a linear regression model\n",
    "        LR = LinearRegression()\n",
    "    \n",
    "        # take only the portion of the data frame that relates to a specific country\n",
    "        df = df[df['country'] == country]\n",
    "    \n",
    "        # get X and Y variables\n",
    "        X = np.array(df['date']).reshape((-1, 1))\n",
    "        Y = np.array(df['people_fully_vaccinated_per_hundred'])\n",
    "    \n",
    "        # Split the training and test data using 30% for testing\n",
    "        Xtrain, Xtest, Ytrain, Ytest = train_test_split(X, Y, test_size=0.3, random_state=19)\n",
    "    \n",
    "        # train the model\n",
    "        LR.fit(Xtrain, Ytrain)\n",
    "    \n",
    "        # test on test set\n",
    "        predictions = LR.predict(Xtest)\n",
    "\n",
    "        # calculate the mean square error\n",
    "        mse = MSE(predictions, Ytest, 3)\n",
    "        \n",
    "        determin_date = (LR.intercept_ - percentage )/LR.coef_\n",
    "        \n",
    "        if plot:\n",
    "            # set labels\n",
    "            plt.title(\"Date VS Population Percentage\\n\",fontsize = 18,fontweight='bold')\n",
    "            plt.ylabel(\"Percentage of Population\\n\",fontsize = 15,fontweight='bold')\n",
    "            plt.xlabel(\"\\nDate\",fontsize = 15,fontweight='bold')\n",
    "            # Plot LR\n",
    "            plot_LR(ordinal_to_datetime_arr(X), Y, ordinal_to_datetime_arr(Xtest), predictions)\n",
    "    \n",
    "        # return the date of the target percentage for the fully vaccinated of country population\n",
    "        # the mean squared error, the Y intercept and the slope\n",
    "        return determin_date, mse, LR.intercept_, LR.coef_\n",
    "    \n",
    "    except:\n",
    "        # if country doesnt have this data let the user know\n",
    "        #print(country, \"has no data for people_fully_vaccinated_per_hundred.\")\n",
    "        return False, False, False, False"
   ]
  },
  {
   "cell_type": "code",
   "execution_count": 81,
   "metadata": {},
   "outputs": [
    {
     "data": {
      "image/png": "[encoded data removed]",
      "text/plain": [
       "<Figure size 432x288 with 1 Axes>"
      ]
     },
     "metadata": {
      "needs_background": "light"
     },
     "output_type": "display_data"
    },
    {
     "name": "stdout",
     "output_type": "stream",
     "text": [
      "The MSE for this model is 0.005\n",
      "We predict that 85% of the United States population will be fully immunized by 2021-10-30.\n"
     ]
    }
   ],
   "source": [
    "# determine a country to investigate\n",
    "country_for_perc = 'United States'\n",
    "\n",
    "# determine a date\n",
    "target_percentage_of_immunization = 85\n",
    "\n",
    "# call function with the dataset, country and target_percentage_of_immunization\n",
    "# store returned values to be printed\n",
    "date, mse, y_intercept, slope = date_to_be_target_percentage(vaccination_3, country_for_perc, target_percentage_of_immunization, True)\n",
    "\n",
    "# display MSE\n",
    "print(\"The MSE for this model is {0}\".format(mse))\n",
    "\n",
    "# display prediction\n",
    "print(\"We predict that {0}% of the {1} population will be fully immunized by {2}.\".format(target_percentage_of_immunization, country_for_perc, ordinal_to_datetime(date)))"
   ]
  },
  {
   "cell_type": "markdown",
   "metadata": {},
   "source": [
    " "
   ]
  },
  {
   "cell_type": "markdown",
   "metadata": {},
   "source": [
    "\n",
    "### Prediction of What Percentage of a Countries Population Will Be Vaccinated by a Given Date\n",
    "\n",
    "Implementing univariant linear regression on people fully vaccinated per hundred by date for different countries. Providing a country and a date, this section will predict what percentage of the countries population will be fully vaccinated by the provided date. If the date provided gives a value of over 100% (the country has fully vaccinated their population before this date), a further machine learning model will be called to determine what date they are predicted to achieve 100% vaccination.\n",
    "<br><br>\n",
    "Some countries don't provide data in the people_fully_vaccinated_per_hundred column. When this is the case the function will return this fact. If this is the case, there is a second machine learning model further down which uses total_vaccinations_per_hundred to determine how many vaccinations have been administered scaled to the population (maximum of 200% for 2 doses for each person)."
   ]
  },
  {
   "cell_type": "code",
   "execution_count": 82,
   "metadata": {},
   "outputs": [],
   "source": [
    "# read in cleaned dataset to new data frame\n",
    "vaccination = pd.read_csv('data/cleaned_vaccination.csv')"
   ]
  },
  {
   "cell_type": "code",
   "execution_count": 83,
   "metadata": {},
   "outputs": [
    {
     "name": "stdout",
     "output_type": "stream",
     "text": [
      "(17607, 3)\n"
     ]
    }
   ],
   "source": [
    "# take only the columns of interest\n",
    "vaccination_4 = vaccination[['country', 'date', 'people_fully_vaccinated_per_hundred']]\n",
    "\n",
    "# show this shape\n",
    "print(vaccination_4.shape)"
   ]
  },
  {
   "cell_type": "code",
   "execution_count": 84,
   "metadata": {},
   "outputs": [
    {
     "name": "stdout",
     "output_type": "stream",
     "text": [
      "(7185, 3)\n"
     ]
    }
   ],
   "source": [
    "# drop all na rows where no data for people fully vaccinated per hundred\n",
    "vaccination_4 = vaccination_4[vaccination_4['people_fully_vaccinated_per_hundred'].notna()]\n",
    "\n",
    "# print the new shape\n",
    "print(vaccination_4.shape)"
   ]
  },
  {
   "cell_type": "code",
   "execution_count": 85,
   "metadata": {},
   "outputs": [],
   "source": [
    "# change date object to date time and then ordinal to be used in linear regression\n",
    "vaccination_4 = date_to_ordinal_df(vaccination_4)"
   ]
  },
  {
   "cell_type": "code",
   "execution_count": 86,
   "metadata": {},
   "outputs": [],
   "source": [
    "\"\"\" \n",
    "    Funtion to determine the percentage of the given countries population fully vaccinated at the provided date\n",
    "    Requires:\n",
    "        the pandas dataframe being worked on\n",
    "        a valid country in string format, and\n",
    "        a date in string format (DD/MM/YYYY)\n",
    "\"\"\"\n",
    "def perc_fully_vaccinated_at_date(df, country, date, plot):\n",
    "    # try except to catch countries with no data in people_fully_vaccinated_per_hundred\n",
    "    try:\n",
    "        # create a linear regression model\n",
    "        LR = LinearRegression()\n",
    "    \n",
    "        #change date passed to datetime then ordinal data\n",
    "        date = date_to_ordinal(date)\n",
    "    \n",
    "        # take only the portion of the data frame that relates to a specific country\n",
    "        df = df[df['country'] == country]\n",
    "    \n",
    "        # get X and Y variables\n",
    "        X = np.array(df['date']).reshape((-1, 1))\n",
    "        Y = np.array(df['people_fully_vaccinated_per_hundred'])\n",
    "    \n",
    "        # Split the training and test data using 30% for testing\n",
    "        Xtrain, Xtest, Ytrain, Ytest = train_test_split(X, Y, test_size=0.3, random_state=19)\n",
    "    \n",
    "        # train the model\n",
    "        LR.fit(Xtrain, Ytrain)\n",
    "    \n",
    "        # test on test set\n",
    "        predictions = LR.predict(Xtest)\n",
    "\n",
    "        # calculate the mean square error\n",
    "        mse = MSE(predictions, Ytest, 3)\n",
    "        \n",
    "        if plot:\n",
    "            # set labels\n",
    "            plt.title(\"Date VS Population Percentage\\n\",fontsize = 18,fontweight='bold')\n",
    "            plt.ylabel(\"Percentage of Population\\n\",fontsize = 15,fontweight='bold')\n",
    "            plt.xlabel(\"\\nDate\",fontsize = 15,fontweight='bold')\n",
    "            # Plot LR\n",
    "            plot_LR(ordinal_to_datetime_arr(X), Y, ordinal_to_datetime_arr(Xtest), predictions)\n",
    "    \n",
    "        # return the percentage of population fully vaccinated at the given date,\n",
    "        # the mean squared error, the Y intercept and the slope\n",
    "        return (LR.intercept_ + LR.coef_ * date), mse, LR.intercept_, LR.coef_\n",
    "    \n",
    "    except:\n",
    "        # if country doesnt have this data let the user know\n",
    "        print(\"{0} has no data for people_fully_vaccinated_per_hundred\".format(country))\n",
    "        return False, False, False, False"
   ]
  },
  {
   "cell_type": "code",
   "execution_count": 87,
   "metadata": {},
   "outputs": [
    {
     "data": {
      "image/png": "[encoded data removed]",
      "text/plain": [
       "<Figure size 432x288 with 1 Axes>"
      ]
     },
     "metadata": {
      "needs_background": "light"
     },
     "output_type": "display_data"
    },
    {
     "name": "stdout",
     "output_type": "stream",
     "text": [
      "The mean squared error of this model is 0.005.\n",
      "\n",
      "United States will have fully vaccined 82.81% of their population by the date 23/10/2021 based on current tracking.\n"
     ]
    }
   ],
   "source": [
    "# determine a country to investigate\n",
    "country_perc_full = 'United States'\n",
    "# determine a date\n",
    "date_perc_full = '23/10/2021'\n",
    "\n",
    "# call function with the dataset, country and date\n",
    "# store returned values to be printed\n",
    "perc_at_date, mse_perc, y_intercept, slope = perc_fully_vaccinated_at_date(vaccination_4, country_perc_full, date_perc_full, True)\n",
    "\n",
    "if perc_at_date == False:\n",
    "    pass\n",
    "else:\n",
    "    # show the MSE to determine how accurate the model is\n",
    "    print(\"The mean squared error of this model is {0}.\".format(mse_perc))\n",
    "    print()\n",
    "    \n",
    "    # check if country is fully vaccinated and tell user that, or print where the country will be at\n",
    "    if perc_at_date > 100:\n",
    "        # if at the date provided the percentage is over 100, call above LR to determine what date 100% will be achieved and display that\n",
    "        date_100, mse_date, y_intercept, slope = date_to_be_target_percentage(vaccination_4, country_perc_full, 100, False)\n",
    "        print(\"It is predicted the {0} will have fully vaccinate their population by {1}.\".format(country_perc_full, ordinal_to_datetime(date_100)))\n",
    "    else:\n",
    "        # print data\n",
    "        print(\"{0} will have fully vaccined {1}% of their population by the date {2} based on current tracking.\".format(country_perc_full, str(round(perc_at_date[0], 2)), date_perc_full))"
   ]
  },
  {
   "cell_type": "markdown",
   "metadata": {},
   "source": [
    "### For Countries Without people_fully_vaccinated_per_hundred Data\n",
    "<br>\n",
    "Calculating total number of vaccinations administered at a given date.\n",
    "<br><br>\n",
    "This is for countries that don't have data in the dataset for people_fully_vaccinated_per_hundred, so we will use the total number of vaccines administered to get a guide as to how many people may have been vaccinated (2 doses per each member of population so up to 200%)"
   ]
  },
  {
   "cell_type": "code",
   "execution_count": 88,
   "metadata": {},
   "outputs": [],
   "source": [
    "# read in cleaned dataset to new data frame\n",
    "vaccination = pd.read_csv('data/cleaned_vaccination.csv')"
   ]
  },
  {
   "cell_type": "code",
   "execution_count": 89,
   "metadata": {},
   "outputs": [
    {
     "name": "stdout",
     "output_type": "stream",
     "text": [
      "(17607, 3)\n"
     ]
    }
   ],
   "source": [
    "# take only the columns of interest\n",
    "vaccination_5 = vaccination[['country', 'date', 'total_vaccinations_per_hundred']]\n",
    "# show this shape\n",
    "print(vaccination_5.shape)"
   ]
  },
  {
   "cell_type": "code",
   "execution_count": 90,
   "metadata": {},
   "outputs": [
    {
     "name": "stdout",
     "output_type": "stream",
     "text": [
      "(10251, 3)\n"
     ]
    }
   ],
   "source": [
    "# drop all na rows where no data for people fully vaccinated per hundred\n",
    "vaccination_5 = vaccination_5[vaccination_5['total_vaccinations_per_hundred'].notna()]\n",
    "# print the new shape\n",
    "print(vaccination_5.shape)"
   ]
  },
  {
   "cell_type": "code",
   "execution_count": 91,
   "metadata": {},
   "outputs": [],
   "source": [
    "# change date object to date time and then ordinal to be used in linear regression\n",
    "vaccination_5 = date_to_ordinal_df(vaccination_5)"
   ]
  },
  {
   "cell_type": "code",
   "execution_count": 92,
   "metadata": {},
   "outputs": [],
   "source": [
    "\"\"\" \n",
    "    Funtion to determine the total vaccinates provided by the given country at the provided date\n",
    "    Requires:\n",
    "        the pandas dataframe being worked on\n",
    "        a valid country in string format, and\n",
    "        a date in string format (DD/MM/YYYY)\n",
    "\"\"\"\n",
    "def perc_people_vaccinated_at_date(df, country, date, plot):\n",
    "    # try except to catch countries with no data in people_fully_vaccinated_per_hundred\n",
    "    try:\n",
    "        # create a linear regression model\n",
    "        LR = LinearRegression()\n",
    "    \n",
    "        #change date passed to datetime then ordinal data\n",
    "        date = date_to_ordinal(date)\n",
    "    \n",
    "        # take only the portion of the data frame that relates to a specific country\n",
    "        df = df[df['country'] == country]\n",
    "    \n",
    "        # get X and Y variables\n",
    "        X = np.array(df['date']).reshape((-1, 1))\n",
    "        Y = np.array(df['total_vaccinations_per_hundred'])\n",
    "    \n",
    "        # Split the training and test data using 30% for testing\n",
    "        Xtrain, Xtest, Ytrain, Ytest = train_test_split(X, Y, test_size=0.3, random_state=19)\n",
    "    \n",
    "        # train the model\n",
    "        LR.fit(Xtrain, Ytrain)\n",
    "    \n",
    "        # test on test set\n",
    "        predictions = LR.predict(Xtest)\n",
    "\n",
    "        # calculate the mean square error\n",
    "        mse = MSE(predictions, Ytest, 3)\n",
    "        \n",
    "        if plot:\n",
    "            # set titles\n",
    "            plt.title(\"Date VS Population Percentage\\n\",fontsize = 18,fontweight='bold')\n",
    "            plt.ylabel(\"Percentage of Population\\n\",fontsize = 15,fontweight='bold')\n",
    "            plt.xlabel(\"\\nDate\",fontsize = 15,fontweight='bold')\n",
    "            # Plot LR\n",
    "            plot_LR(ordinal_to_datetime_arr(X), Y, ordinal_to_datetime_arr(Xtest), predictions)\n",
    "    \n",
    "        # return the percentage of population fully vaccinated at the given date,\n",
    "        # the mean squared error, the Y intercept and the slope\n",
    "        return (LR.intercept_ + LR.coef_ * date), mse, LR.intercept_, LR.coef_\n",
    "    \n",
    "    except:\n",
    "        # if country doesnt have this data let the user know\n",
    "        print(country, \"has no data for total_vaccinations_per_hundred.\")\n",
    "        return False, False, False, False"
   ]
  },
  {
   "cell_type": "code",
   "execution_count": 93,
   "metadata": {},
   "outputs": [
    {
     "data": {
      "image/png": "[encoded data removed]",
      "text/plain": [
       "<Figure size 432x288 with 1 Axes>"
      ]
     },
     "metadata": {
      "needs_background": "light"
     },
     "output_type": "display_data"
    },
    {
     "name": "stdout",
     "output_type": "stream",
     "text": [
      "The mean squared error of this model is 0.016.\n",
      "\n",
      "Australia will have administered 41.17% of vaccines required to their population by the date 22/12/2021 based on current tracking (200% required for 2 doses for each person).\n"
     ]
    }
   ],
   "source": [
    "# determine a country to investigate\n",
    "country_perc_ppl = 'Australia'\n",
    "# determine a date\n",
    "date_perc_ppl = '22/12/2021'\n",
    "\n",
    "\n",
    "# call function with the dataset, country and date\n",
    "# store returned values to be printed\n",
    "total_at_date, mse_tot_ppl, y_intercept, slope = perc_people_vaccinated_at_date(vaccination_5, country_perc_ppl, date_perc_ppl, True)\n",
    "    \n",
    "if total_at_date == False:\n",
    "    pass\n",
    "else:\n",
    "    # show the MSE to determine how accurate the model is\n",
    "    print(\"The mean squared error of this model is {0}.\".format(mse_tot_ppl))\n",
    "    print()\n",
    "    \n",
    "    # check if country is full vaccinated and tell user that, or print where the country will be at\n",
    "    if total_at_date > 200:\n",
    "        print(\"{0} is predicted to have administered over 200% of vaccinations to their population by {1}\".format(country_perc_ppl, date_perc_ppl))\n",
    "    else:\n",
    "        # check if country is full vaccinated and tell user that, or print where the country will be at\n",
    "        print(\"{0} will have administered {1}% of vaccines required to their population by the date {2} based on current tracking (200% required for 2 doses for each person).\".format(country_perc_ppl, str(round(total_at_date[0], 2)), date_perc_ppl))"
   ]
  },
  {
   "cell_type": "markdown",
   "metadata": {},
   "source": [
    "<br>"
   ]
  },
  {
   "cell_type": "markdown",
   "metadata": {},
   "source": [
    "### Use date_to_be_target_percentage() Linear Regression Model/Function to Predict Herd Immunity (70%)\n",
    "\n",
    "Using the date_to_be_target_percentage() function and linear regression model, predict the date different countries will achieve herd immunity. This can then be combined to get a prediction for world wide vaccinations.\n",
    "<br>"
   ]
  },
  {
   "cell_type": "code",
   "execution_count": 94,
   "metadata": {},
   "outputs": [],
   "source": [
    "# Create a new dataframe\n",
    "pred_70_date = pd.DataFrame(columns=['country','ord_date','mse','y_intercept','slope'])\n",
    "\n",
    "# Copy unique country value from previous dataframe\n",
    "pred_70_date['country'] = vaccination_3['country'].unique().copy()"
   ]
  },
  {
   "cell_type": "code",
   "execution_count": 95,
   "metadata": {},
   "outputs": [
    {
     "data": {
      "text/html": [
       "<div>\n",
       "<style scoped>\n",
       "    .dataframe tbody tr th:only-of-type {\n",
       "        vertical-align: middle;\n",
       "    }\n",
       "\n",
       "    .dataframe tbody tr th {\n",
       "        vertical-align: top;\n",
       "    }\n",
       "\n",
       "    .dataframe thead th {\n",
       "        text-align: right;\n",
       "    }\n",
       "</style>\n",
       "<table border=\"1\" class=\"dataframe\">\n",
       "  <thead>\n",
       "    <tr style=\"text-align: right;\">\n",
       "      <th></th>\n",
       "      <th>country</th>\n",
       "      <th>ord_date</th>\n",
       "      <th>mse</th>\n",
       "      <th>y_intercept</th>\n",
       "      <th>slope</th>\n",
       "    </tr>\n",
       "  </thead>\n",
       "  <tbody>\n",
       "    <tr>\n",
       "      <th>0</th>\n",
       "      <td>Afghanistan</td>\n",
       "      <td>False</td>\n",
       "      <td>False</td>\n",
       "      <td>False</td>\n",
       "      <td>False</td>\n",
       "    </tr>\n",
       "    <tr>\n",
       "      <th>1</th>\n",
       "      <td>Albania</td>\n",
       "      <td>[-738810.4695605042]</td>\n",
       "      <td>0.774000</td>\n",
       "      <td>-52814.655974</td>\n",
       "      <td>[0.0715808155852732]</td>\n",
       "    </tr>\n",
       "    <tr>\n",
       "      <th>2</th>\n",
       "      <td>Andorra</td>\n",
       "      <td>[-738685.9787968443]</td>\n",
       "      <td>0.014000</td>\n",
       "      <td>-61075.108776</td>\n",
       "      <td>[0.08277551020408165]</td>\n",
       "    </tr>\n",
       "    <tr>\n",
       "      <th>3</th>\n",
       "      <td>Angola</td>\n",
       "      <td>False</td>\n",
       "      <td>False</td>\n",
       "      <td>False</td>\n",
       "      <td>False</td>\n",
       "    </tr>\n",
       "    <tr>\n",
       "      <th>4</th>\n",
       "      <td>Anguilla</td>\n",
       "      <td>False</td>\n",
       "      <td>False</td>\n",
       "      <td>False</td>\n",
       "      <td>False</td>\n",
       "    </tr>\n",
       "  </tbody>\n",
       "</table>\n",
       "</div>"
      ],
      "text/plain": [
       "       country              ord_date      mse   y_intercept  \\\n",
       "0  Afghanistan                 False    False         False   \n",
       "1      Albania  [-738810.4695605042] 0.774000 -52814.655974   \n",
       "2      Andorra  [-738685.9787968443] 0.014000 -61075.108776   \n",
       "3       Angola                 False    False         False   \n",
       "4     Anguilla                 False    False         False   \n",
       "\n",
       "                   slope  \n",
       "0                  False  \n",
       "1   [0.0715808155852732]  \n",
       "2  [0.08277551020408165]  \n",
       "3                  False  \n",
       "4                  False  "
      ]
     },
     "execution_count": 95,
     "metadata": {},
     "output_type": "execute_result"
    }
   ],
   "source": [
    "# Calulate each country's predicted herd immunity date\n",
    "target_percentage_of_immunization = 70\n",
    "\n",
    "# store in each data frame column the returned values for all countries\n",
    "pred_70_date['ord_date'] = pred_70_date['country'].map(lambda x : date_to_be_target_percentage(vaccination_3,x,target_percentage_of_immunization, 0)[0])\n",
    "pred_70_date['mse'] = pred_70_date['country'].map(lambda x : date_to_be_target_percentage(vaccination_3,x,target_percentage_of_immunization, 0)[1])\n",
    "pred_70_date['y_intercept'] = pred_70_date['country'].map(lambda x : date_to_be_target_percentage(vaccination_3,x,target_percentage_of_immunization, 0)[2])\n",
    "pred_70_date['slope'] = pred_70_date['country'].map(lambda x : date_to_be_target_percentage(vaccination_3,x,target_percentage_of_immunization, 0)[3])\n",
    "\n",
    "# print head to see what data looks like depending on if countries have provided this data\n",
    "pred_70_date.head()"
   ]
  },
  {
   "cell_type": "code",
   "execution_count": 96,
   "metadata": {},
   "outputs": [],
   "source": [
    "# Update the ordinal date to absolute value\n",
    "pred_70_date['ord_date']= pred_70_date['ord_date'].abs()\n",
    "\n",
    "# Replace 0, inf, -inf values to np.nan values\n",
    "pred_70_date.replace(0, np.nan,inplace=True)\n",
    "pred_70_date.replace([np.inf, -np.inf], np.nan, inplace=True)"
   ]
  },
  {
   "cell_type": "code",
   "execution_count": 97,
   "metadata": {},
   "outputs": [],
   "source": [
    "# Drop nan values\n",
    "pred_70_date.dropna(inplace=True)"
   ]
  },
  {
   "cell_type": "code",
   "execution_count": 98,
   "metadata": {},
   "outputs": [
    {
     "data": {
      "text/html": [
       "<div>\n",
       "<style scoped>\n",
       "    .dataframe tbody tr th:only-of-type {\n",
       "        vertical-align: middle;\n",
       "    }\n",
       "\n",
       "    .dataframe tbody tr th {\n",
       "        vertical-align: top;\n",
       "    }\n",
       "\n",
       "    .dataframe thead th {\n",
       "        text-align: right;\n",
       "    }\n",
       "</style>\n",
       "<table border=\"1\" class=\"dataframe\">\n",
       "  <thead>\n",
       "    <tr style=\"text-align: right;\">\n",
       "      <th></th>\n",
       "      <th>country</th>\n",
       "      <th>ord_date</th>\n",
       "      <th>mse</th>\n",
       "      <th>y_intercept</th>\n",
       "      <th>slope</th>\n",
       "      <th>pred_date</th>\n",
       "      <th>pred_year</th>\n",
       "      <th>pred_month</th>\n",
       "    </tr>\n",
       "  </thead>\n",
       "  <tbody>\n",
       "    <tr>\n",
       "      <th>1</th>\n",
       "      <td>Albania</td>\n",
       "      <td>[738810.4695605042]</td>\n",
       "      <td>0.774000</td>\n",
       "      <td>-52814.655974</td>\n",
       "      <td>[0.0715808155852732]</td>\n",
       "      <td>2023-10-17</td>\n",
       "      <td>2023</td>\n",
       "      <td>10</td>\n",
       "    </tr>\n",
       "    <tr>\n",
       "      <th>2</th>\n",
       "      <td>Andorra</td>\n",
       "      <td>[738685.9787968443]</td>\n",
       "      <td>0.014000</td>\n",
       "      <td>-61075.108776</td>\n",
       "      <td>[0.08277551020408165]</td>\n",
       "      <td>2023-06-14</td>\n",
       "      <td>2023</td>\n",
       "      <td>06</td>\n",
       "    </tr>\n",
       "    <tr>\n",
       "      <th>5</th>\n",
       "      <td>Argentina</td>\n",
       "      <td>[740827.6611530225]</td>\n",
       "      <td>0.024000</td>\n",
       "      <td>-17151.047490</td>\n",
       "      <td>[0.023245686403527862]</td>\n",
       "      <td>2029-04-25</td>\n",
       "      <td>2029</td>\n",
       "      <td>04</td>\n",
       "    </tr>\n",
       "    <tr>\n",
       "      <th>6</th>\n",
       "      <td>Aruba</td>\n",
       "      <td>[738023.3625005758]</td>\n",
       "      <td>0.002000</td>\n",
       "      <td>-323978.564062</td>\n",
       "      <td>[0.43907629558541267]</td>\n",
       "      <td>2021-08-21</td>\n",
       "      <td>2021</td>\n",
       "      <td>08</td>\n",
       "    </tr>\n",
       "    <tr>\n",
       "      <th>7</th>\n",
       "      <td>Austria</td>\n",
       "      <td>[738559.5436337377]</td>\n",
       "      <td>0.007000</td>\n",
       "      <td>-69625.340128</td>\n",
       "      <td>[0.09436658253084462]</td>\n",
       "      <td>2023-02-08</td>\n",
       "      <td>2023</td>\n",
       "      <td>02</td>\n",
       "    </tr>\n",
       "  </tbody>\n",
       "</table>\n",
       "</div>"
      ],
      "text/plain": [
       "     country             ord_date      mse    y_intercept  \\\n",
       "1    Albania  [738810.4695605042] 0.774000  -52814.655974   \n",
       "2    Andorra  [738685.9787968443] 0.014000  -61075.108776   \n",
       "5  Argentina  [740827.6611530225] 0.024000  -17151.047490   \n",
       "6      Aruba  [738023.3625005758] 0.002000 -323978.564062   \n",
       "7    Austria  [738559.5436337377] 0.007000  -69625.340128   \n",
       "\n",
       "                    slope  pred_date pred_year pred_month  \n",
       "1    [0.0715808155852732] 2023-10-17      2023         10  \n",
       "2   [0.08277551020408165] 2023-06-14      2023         06  \n",
       "5  [0.023245686403527862] 2029-04-25      2029         04  \n",
       "6   [0.43907629558541267] 2021-08-21      2021         08  \n",
       "7   [0.09436658253084462] 2023-02-08      2023         02  "
      ]
     },
     "execution_count": 98,
     "metadata": {},
     "output_type": "execute_result"
    }
   ],
   "source": [
    "# Update the ordinal date to datetime format and seperate into the predicted year and month [1]\n",
    "pred_70_date['pred_date'] = pred_70_date['ord_date'].apply(lambda x : ordinal_to_datetime(x))\n",
    "pred_70_date['pred_date'] = pd.to_datetime(pred_70_date['pred_date'], format=\"%Y/%m/%d\", errors='coerce')\n",
    "pred_70_date['pred_year'] = pd.to_datetime(pred_70_date['pred_date']).dt.strftime('%Y')\n",
    "pred_70_date['pred_month']= pd.to_datetime(pred_70_date['pred_date']).dt.strftime('%m')\n",
    "\n",
    "# show predicted day and year and month seperation\n",
    "pred_70_date.head()"
   ]
  },
  {
   "cell_type": "code",
   "execution_count": 99,
   "metadata": {},
   "outputs": [
    {
     "data": {
      "text/html": [
       "<div>\n",
       "<style scoped>\n",
       "    .dataframe tbody tr th:only-of-type {\n",
       "        vertical-align: middle;\n",
       "    }\n",
       "\n",
       "    .dataframe tbody tr th {\n",
       "        vertical-align: top;\n",
       "    }\n",
       "\n",
       "    .dataframe thead th {\n",
       "        text-align: right;\n",
       "    }\n",
       "</style>\n",
       "<table border=\"1\" class=\"dataframe\">\n",
       "  <thead>\n",
       "    <tr style=\"text-align: right;\">\n",
       "      <th>pred_month</th>\n",
       "      <th>01</th>\n",
       "      <th>02</th>\n",
       "      <th>03</th>\n",
       "      <th>04</th>\n",
       "      <th>05</th>\n",
       "      <th>06</th>\n",
       "      <th>07</th>\n",
       "      <th>08</th>\n",
       "      <th>09</th>\n",
       "      <th>10</th>\n",
       "      <th>11</th>\n",
       "      <th>12</th>\n",
       "    </tr>\n",
       "    <tr>\n",
       "      <th>pred_year</th>\n",
       "      <th></th>\n",
       "      <th></th>\n",
       "      <th></th>\n",
       "      <th></th>\n",
       "      <th></th>\n",
       "      <th></th>\n",
       "      <th></th>\n",
       "      <th></th>\n",
       "      <th></th>\n",
       "      <th></th>\n",
       "      <th></th>\n",
       "      <th></th>\n",
       "    </tr>\n",
       "  </thead>\n",
       "  <tbody>\n",
       "    <tr>\n",
       "      <th>2021</th>\n",
       "      <td>0</td>\n",
       "      <td>0</td>\n",
       "      <td>1</td>\n",
       "      <td>0</td>\n",
       "      <td>2</td>\n",
       "      <td>3</td>\n",
       "      <td>5</td>\n",
       "      <td>3</td>\n",
       "      <td>2</td>\n",
       "      <td>1</td>\n",
       "      <td>2</td>\n",
       "      <td>2</td>\n",
       "    </tr>\n",
       "    <tr>\n",
       "      <th>2022</th>\n",
       "      <td>4</td>\n",
       "      <td>3</td>\n",
       "      <td>1</td>\n",
       "      <td>0</td>\n",
       "      <td>0</td>\n",
       "      <td>2</td>\n",
       "      <td>1</td>\n",
       "      <td>4</td>\n",
       "      <td>0</td>\n",
       "      <td>0</td>\n",
       "      <td>5</td>\n",
       "      <td>2</td>\n",
       "    </tr>\n",
       "    <tr>\n",
       "      <th>2023</th>\n",
       "      <td>4</td>\n",
       "      <td>5</td>\n",
       "      <td>4</td>\n",
       "      <td>4</td>\n",
       "      <td>0</td>\n",
       "      <td>4</td>\n",
       "      <td>3</td>\n",
       "      <td>3</td>\n",
       "      <td>1</td>\n",
       "      <td>3</td>\n",
       "      <td>0</td>\n",
       "      <td>1</td>\n",
       "    </tr>\n",
       "    <tr>\n",
       "      <th>2024</th>\n",
       "      <td>1</td>\n",
       "      <td>0</td>\n",
       "      <td>0</td>\n",
       "      <td>1</td>\n",
       "      <td>0</td>\n",
       "      <td>0</td>\n",
       "      <td>0</td>\n",
       "      <td>0</td>\n",
       "      <td>1</td>\n",
       "      <td>0</td>\n",
       "      <td>0</td>\n",
       "      <td>1</td>\n",
       "    </tr>\n",
       "    <tr>\n",
       "      <th>2025</th>\n",
       "      <td>0</td>\n",
       "      <td>0</td>\n",
       "      <td>0</td>\n",
       "      <td>0</td>\n",
       "      <td>0</td>\n",
       "      <td>0</td>\n",
       "      <td>1</td>\n",
       "      <td>0</td>\n",
       "      <td>0</td>\n",
       "      <td>1</td>\n",
       "      <td>0</td>\n",
       "      <td>1</td>\n",
       "    </tr>\n",
       "    <tr>\n",
       "      <th>2026</th>\n",
       "      <td>1</td>\n",
       "      <td>0</td>\n",
       "      <td>0</td>\n",
       "      <td>1</td>\n",
       "      <td>0</td>\n",
       "      <td>0</td>\n",
       "      <td>1</td>\n",
       "      <td>0</td>\n",
       "      <td>1</td>\n",
       "      <td>0</td>\n",
       "      <td>1</td>\n",
       "      <td>1</td>\n",
       "    </tr>\n",
       "    <tr>\n",
       "      <th>2027</th>\n",
       "      <td>0</td>\n",
       "      <td>0</td>\n",
       "      <td>0</td>\n",
       "      <td>0</td>\n",
       "      <td>0</td>\n",
       "      <td>1</td>\n",
       "      <td>0</td>\n",
       "      <td>1</td>\n",
       "      <td>0</td>\n",
       "      <td>0</td>\n",
       "      <td>1</td>\n",
       "      <td>0</td>\n",
       "    </tr>\n",
       "    <tr>\n",
       "      <th>2028</th>\n",
       "      <td>0</td>\n",
       "      <td>1</td>\n",
       "      <td>0</td>\n",
       "      <td>1</td>\n",
       "      <td>0</td>\n",
       "      <td>0</td>\n",
       "      <td>0</td>\n",
       "      <td>0</td>\n",
       "      <td>0</td>\n",
       "      <td>0</td>\n",
       "      <td>0</td>\n",
       "      <td>0</td>\n",
       "    </tr>\n",
       "    <tr>\n",
       "      <th>2029</th>\n",
       "      <td>1</td>\n",
       "      <td>0</td>\n",
       "      <td>0</td>\n",
       "      <td>1</td>\n",
       "      <td>0</td>\n",
       "      <td>0</td>\n",
       "      <td>1</td>\n",
       "      <td>0</td>\n",
       "      <td>0</td>\n",
       "      <td>0</td>\n",
       "      <td>0</td>\n",
       "      <td>0</td>\n",
       "    </tr>\n",
       "    <tr>\n",
       "      <th>2030</th>\n",
       "      <td>0</td>\n",
       "      <td>0</td>\n",
       "      <td>0</td>\n",
       "      <td>1</td>\n",
       "      <td>0</td>\n",
       "      <td>0</td>\n",
       "      <td>0</td>\n",
       "      <td>0</td>\n",
       "      <td>0</td>\n",
       "      <td>1</td>\n",
       "      <td>1</td>\n",
       "      <td>0</td>\n",
       "    </tr>\n",
       "    <tr>\n",
       "      <th>2031</th>\n",
       "      <td>0</td>\n",
       "      <td>0</td>\n",
       "      <td>1</td>\n",
       "      <td>0</td>\n",
       "      <td>0</td>\n",
       "      <td>0</td>\n",
       "      <td>0</td>\n",
       "      <td>0</td>\n",
       "      <td>0</td>\n",
       "      <td>0</td>\n",
       "      <td>0</td>\n",
       "      <td>1</td>\n",
       "    </tr>\n",
       "    <tr>\n",
       "      <th>2032</th>\n",
       "      <td>0</td>\n",
       "      <td>0</td>\n",
       "      <td>0</td>\n",
       "      <td>0</td>\n",
       "      <td>0</td>\n",
       "      <td>0</td>\n",
       "      <td>0</td>\n",
       "      <td>0</td>\n",
       "      <td>0</td>\n",
       "      <td>1</td>\n",
       "      <td>0</td>\n",
       "      <td>0</td>\n",
       "    </tr>\n",
       "    <tr>\n",
       "      <th>2033</th>\n",
       "      <td>0</td>\n",
       "      <td>0</td>\n",
       "      <td>0</td>\n",
       "      <td>0</td>\n",
       "      <td>1</td>\n",
       "      <td>0</td>\n",
       "      <td>0</td>\n",
       "      <td>0</td>\n",
       "      <td>0</td>\n",
       "      <td>0</td>\n",
       "      <td>0</td>\n",
       "      <td>0</td>\n",
       "    </tr>\n",
       "    <tr>\n",
       "      <th>2038</th>\n",
       "      <td>0</td>\n",
       "      <td>0</td>\n",
       "      <td>1</td>\n",
       "      <td>0</td>\n",
       "      <td>0</td>\n",
       "      <td>0</td>\n",
       "      <td>0</td>\n",
       "      <td>0</td>\n",
       "      <td>0</td>\n",
       "      <td>0</td>\n",
       "      <td>0</td>\n",
       "      <td>0</td>\n",
       "    </tr>\n",
       "    <tr>\n",
       "      <th>2040</th>\n",
       "      <td>0</td>\n",
       "      <td>0</td>\n",
       "      <td>0</td>\n",
       "      <td>0</td>\n",
       "      <td>0</td>\n",
       "      <td>0</td>\n",
       "      <td>0</td>\n",
       "      <td>0</td>\n",
       "      <td>0</td>\n",
       "      <td>0</td>\n",
       "      <td>0</td>\n",
       "      <td>1</td>\n",
       "    </tr>\n",
       "    <tr>\n",
       "      <th>2041</th>\n",
       "      <td>0</td>\n",
       "      <td>0</td>\n",
       "      <td>1</td>\n",
       "      <td>0</td>\n",
       "      <td>0</td>\n",
       "      <td>0</td>\n",
       "      <td>0</td>\n",
       "      <td>1</td>\n",
       "      <td>0</td>\n",
       "      <td>0</td>\n",
       "      <td>0</td>\n",
       "      <td>0</td>\n",
       "    </tr>\n",
       "    <tr>\n",
       "      <th>2045</th>\n",
       "      <td>0</td>\n",
       "      <td>0</td>\n",
       "      <td>0</td>\n",
       "      <td>0</td>\n",
       "      <td>0</td>\n",
       "      <td>0</td>\n",
       "      <td>1</td>\n",
       "      <td>0</td>\n",
       "      <td>0</td>\n",
       "      <td>0</td>\n",
       "      <td>0</td>\n",
       "      <td>0</td>\n",
       "    </tr>\n",
       "    <tr>\n",
       "      <th>2046</th>\n",
       "      <td>0</td>\n",
       "      <td>0</td>\n",
       "      <td>0</td>\n",
       "      <td>0</td>\n",
       "      <td>1</td>\n",
       "      <td>0</td>\n",
       "      <td>0</td>\n",
       "      <td>0</td>\n",
       "      <td>0</td>\n",
       "      <td>0</td>\n",
       "      <td>0</td>\n",
       "      <td>0</td>\n",
       "    </tr>\n",
       "    <tr>\n",
       "      <th>2052</th>\n",
       "      <td>0</td>\n",
       "      <td>0</td>\n",
       "      <td>0</td>\n",
       "      <td>0</td>\n",
       "      <td>0</td>\n",
       "      <td>0</td>\n",
       "      <td>0</td>\n",
       "      <td>0</td>\n",
       "      <td>0</td>\n",
       "      <td>0</td>\n",
       "      <td>1</td>\n",
       "      <td>0</td>\n",
       "    </tr>\n",
       "    <tr>\n",
       "      <th>2064</th>\n",
       "      <td>0</td>\n",
       "      <td>0</td>\n",
       "      <td>1</td>\n",
       "      <td>0</td>\n",
       "      <td>0</td>\n",
       "      <td>0</td>\n",
       "      <td>0</td>\n",
       "      <td>0</td>\n",
       "      <td>0</td>\n",
       "      <td>0</td>\n",
       "      <td>0</td>\n",
       "      <td>0</td>\n",
       "    </tr>\n",
       "    <tr>\n",
       "      <th>2068</th>\n",
       "      <td>0</td>\n",
       "      <td>0</td>\n",
       "      <td>0</td>\n",
       "      <td>0</td>\n",
       "      <td>1</td>\n",
       "      <td>0</td>\n",
       "      <td>0</td>\n",
       "      <td>0</td>\n",
       "      <td>0</td>\n",
       "      <td>0</td>\n",
       "      <td>0</td>\n",
       "      <td>0</td>\n",
       "    </tr>\n",
       "    <tr>\n",
       "      <th>2082</th>\n",
       "      <td>0</td>\n",
       "      <td>0</td>\n",
       "      <td>0</td>\n",
       "      <td>0</td>\n",
       "      <td>0</td>\n",
       "      <td>0</td>\n",
       "      <td>0</td>\n",
       "      <td>0</td>\n",
       "      <td>1</td>\n",
       "      <td>0</td>\n",
       "      <td>0</td>\n",
       "      <td>0</td>\n",
       "    </tr>\n",
       "  </tbody>\n",
       "</table>\n",
       "</div>"
      ],
      "text/plain": [
       "pred_month  01  02  03  04  05  06  07  08  09  10  11  12\n",
       "pred_year                                                 \n",
       "2021         0   0   1   0   2   3   5   3   2   1   2   2\n",
       "2022         4   3   1   0   0   2   1   4   0   0   5   2\n",
       "2023         4   5   4   4   0   4   3   3   1   3   0   1\n",
       "2024         1   0   0   1   0   0   0   0   1   0   0   1\n",
       "2025         0   0   0   0   0   0   1   0   0   1   0   1\n",
       "2026         1   0   0   1   0   0   1   0   1   0   1   1\n",
       "2027         0   0   0   0   0   1   0   1   0   0   1   0\n",
       "2028         0   1   0   1   0   0   0   0   0   0   0   0\n",
       "2029         1   0   0   1   0   0   1   0   0   0   0   0\n",
       "2030         0   0   0   1   0   0   0   0   0   1   1   0\n",
       "2031         0   0   1   0   0   0   0   0   0   0   0   1\n",
       "2032         0   0   0   0   0   0   0   0   0   1   0   0\n",
       "2033         0   0   0   0   1   0   0   0   0   0   0   0\n",
       "2038         0   0   1   0   0   0   0   0   0   0   0   0\n",
       "2040         0   0   0   0   0   0   0   0   0   0   0   1\n",
       "2041         0   0   1   0   0   0   0   1   0   0   0   0\n",
       "2045         0   0   0   0   0   0   1   0   0   0   0   0\n",
       "2046         0   0   0   0   1   0   0   0   0   0   0   0\n",
       "2052         0   0   0   0   0   0   0   0   0   0   1   0\n",
       "2064         0   0   1   0   0   0   0   0   0   0   0   0\n",
       "2068         0   0   0   0   1   0   0   0   0   0   0   0\n",
       "2082         0   0   0   0   0   0   0   0   1   0   0   0"
      ]
     },
     "execution_count": 99,
     "metadata": {},
     "output_type": "execute_result"
    }
   ],
   "source": [
    "# Find the number of countries reaching herd immunity per month/year using a pivot table and replace the nan value to zero.\n",
    "pred_70_pivot = pd.pivot_table(\n",
    "    pred_70_date, values=\"country\", index=\"pred_year\", columns=\"pred_month\", aggfunc=\"count\", fill_value = 0).astype(int)\n",
    "\n",
    "# show dataframe with how many countries will achieve herd immunity at each year and month\n",
    "pred_70_pivot"
   ]
  },
  {
   "cell_type": "code",
   "execution_count": 100,
   "metadata": {},
   "outputs": [
    {
     "data": {
      "text/plain": [
       "Text(0, 0.5, 'Number of countries\\n')"
      ]
     },
     "execution_count": 100,
     "metadata": {},
     "output_type": "execute_result"
    },
    {
     "data": {
      "image/png": "[encoded data removed]",
      "text/plain": [
       "<Figure size 1080x432 with 1 Axes>"
      ]
     },
     "metadata": {
      "needs_background": "light"
     },
     "output_type": "display_data"
    }
   ],
   "source": [
    "# Graph to see how countries will reach the herd immunity by month and year [2]\n",
    "\n",
    "ax = pred_70_pivot.plot(kind=\"bar\")\n",
    "\n",
    "# Get a Matplotlib figure from the axes object for formatting purposes\n",
    "fig = ax.get_figure()\n",
    "\n",
    "# Change the plot dimensions (width, height)\n",
    "fig.set_size_inches(15, 6)\n",
    "\n",
    "# Change the axes labels\n",
    "ax.set_xlabel(\"\\nYears\")\n",
    "ax.set_ylabel(\"Number of countries\\n\")"
   ]
  },
  {
   "cell_type": "code",
   "execution_count": 101,
   "metadata": {},
   "outputs": [
    {
     "data": {
      "text/html": [
       "<div>\n",
       "<style scoped>\n",
       "    .dataframe tbody tr th:only-of-type {\n",
       "        vertical-align: middle;\n",
       "    }\n",
       "\n",
       "    .dataframe tbody tr th {\n",
       "        vertical-align: top;\n",
       "    }\n",
       "\n",
       "    .dataframe thead th {\n",
       "        text-align: right;\n",
       "    }\n",
       "</style>\n",
       "<table border=\"1\" class=\"dataframe\">\n",
       "  <thead>\n",
       "    <tr style=\"text-align: right;\">\n",
       "      <th>pred_month</th>\n",
       "      <th>01</th>\n",
       "      <th>02</th>\n",
       "      <th>03</th>\n",
       "      <th>04</th>\n",
       "      <th>05</th>\n",
       "      <th>06</th>\n",
       "      <th>07</th>\n",
       "      <th>08</th>\n",
       "      <th>09</th>\n",
       "      <th>10</th>\n",
       "      <th>11</th>\n",
       "      <th>12</th>\n",
       "      <th>sum</th>\n",
       "      <th>cumsum</th>\n",
       "      <th>pcumsum</th>\n",
       "    </tr>\n",
       "    <tr>\n",
       "      <th>pred_year</th>\n",
       "      <th></th>\n",
       "      <th></th>\n",
       "      <th></th>\n",
       "      <th></th>\n",
       "      <th></th>\n",
       "      <th></th>\n",
       "      <th></th>\n",
       "      <th></th>\n",
       "      <th></th>\n",
       "      <th></th>\n",
       "      <th></th>\n",
       "      <th></th>\n",
       "      <th></th>\n",
       "      <th></th>\n",
       "      <th></th>\n",
       "    </tr>\n",
       "  </thead>\n",
       "  <tbody>\n",
       "    <tr>\n",
       "      <th>2021</th>\n",
       "      <td>0</td>\n",
       "      <td>0</td>\n",
       "      <td>1</td>\n",
       "      <td>0</td>\n",
       "      <td>2</td>\n",
       "      <td>3</td>\n",
       "      <td>5</td>\n",
       "      <td>3</td>\n",
       "      <td>2</td>\n",
       "      <td>1</td>\n",
       "      <td>2</td>\n",
       "      <td>2</td>\n",
       "      <td>21</td>\n",
       "      <td>21</td>\n",
       "      <td>18.584071</td>\n",
       "    </tr>\n",
       "    <tr>\n",
       "      <th>2022</th>\n",
       "      <td>4</td>\n",
       "      <td>3</td>\n",
       "      <td>1</td>\n",
       "      <td>0</td>\n",
       "      <td>0</td>\n",
       "      <td>2</td>\n",
       "      <td>1</td>\n",
       "      <td>4</td>\n",
       "      <td>0</td>\n",
       "      <td>0</td>\n",
       "      <td>5</td>\n",
       "      <td>2</td>\n",
       "      <td>22</td>\n",
       "      <td>43</td>\n",
       "      <td>38.053097</td>\n",
       "    </tr>\n",
       "    <tr>\n",
       "      <th>2023</th>\n",
       "      <td>4</td>\n",
       "      <td>5</td>\n",
       "      <td>4</td>\n",
       "      <td>4</td>\n",
       "      <td>0</td>\n",
       "      <td>4</td>\n",
       "      <td>3</td>\n",
       "      <td>3</td>\n",
       "      <td>1</td>\n",
       "      <td>3</td>\n",
       "      <td>0</td>\n",
       "      <td>1</td>\n",
       "      <td>32</td>\n",
       "      <td>75</td>\n",
       "      <td>66.371681</td>\n",
       "    </tr>\n",
       "    <tr>\n",
       "      <th>2024</th>\n",
       "      <td>1</td>\n",
       "      <td>0</td>\n",
       "      <td>0</td>\n",
       "      <td>1</td>\n",
       "      <td>0</td>\n",
       "      <td>0</td>\n",
       "      <td>0</td>\n",
       "      <td>0</td>\n",
       "      <td>1</td>\n",
       "      <td>0</td>\n",
       "      <td>0</td>\n",
       "      <td>1</td>\n",
       "      <td>4</td>\n",
       "      <td>79</td>\n",
       "      <td>69.911504</td>\n",
       "    </tr>\n",
       "    <tr>\n",
       "      <th>2025</th>\n",
       "      <td>0</td>\n",
       "      <td>0</td>\n",
       "      <td>0</td>\n",
       "      <td>0</td>\n",
       "      <td>0</td>\n",
       "      <td>0</td>\n",
       "      <td>1</td>\n",
       "      <td>0</td>\n",
       "      <td>0</td>\n",
       "      <td>1</td>\n",
       "      <td>0</td>\n",
       "      <td>1</td>\n",
       "      <td>3</td>\n",
       "      <td>82</td>\n",
       "      <td>72.566372</td>\n",
       "    </tr>\n",
       "  </tbody>\n",
       "</table>\n",
       "</div>"
      ],
      "text/plain": [
       "pred_month  01  02  03  04  05  06  07  08  09  10  11  12  sum  cumsum  \\\n",
       "pred_year                                                                 \n",
       "2021         0   0   1   0   2   3   5   3   2   1   2   2   21      21   \n",
       "2022         4   3   1   0   0   2   1   4   0   0   5   2   22      43   \n",
       "2023         4   5   4   4   0   4   3   3   1   3   0   1   32      75   \n",
       "2024         1   0   0   1   0   0   0   0   1   0   0   1    4      79   \n",
       "2025         0   0   0   0   0   0   1   0   0   1   0   1    3      82   \n",
       "\n",
       "pred_month   pcumsum  \n",
       "pred_year             \n",
       "2021       18.584071  \n",
       "2022       38.053097  \n",
       "2023       66.371681  \n",
       "2024       69.911504  \n",
       "2025       72.566372  "
      ]
     },
     "execution_count": 101,
     "metadata": {},
     "output_type": "execute_result"
    }
   ],
   "source": [
    "# use cumulative sum to determine how many countries will have achieved herd immunity at a given point\n",
    "pred_70_pivot['sum'] = pred_70_pivot.sum(axis=1)\n",
    "pred_70_pivot['cumsum'] = pred_70_pivot['sum'].cumsum()\n",
    "\n",
    "# use this as a percentage of world countries\n",
    "pred_70_pivot['pcumsum'] = 100 * pred_70_pivot['cumsum']/pred_70_pivot['sum'].sum()\n",
    "pred_70_pivot.head()"
   ]
  },
  {
   "cell_type": "code",
   "execution_count": 102,
   "metadata": {
    "scrolled": true
   },
   "outputs": [
    {
     "data": {
      "image/png": "[encoded data removed]",
      "text/plain": [
       "<Figure size 864x648 with 1 Axes>"
      ]
     },
     "metadata": {},
     "output_type": "display_data"
    }
   ],
   "source": [
    "# set style to whitegrid\n",
    "sns.axes_style(\"whitegrid\")\n",
    "\n",
    "# set graph size\n",
    "sns.set(rc={'figure.figsize':(12,9)})\n",
    "\n",
    "# plot data on x and y\n",
    "graph = sns.lineplot(x=\"pred_year\", y=\"pcumsum\", data=pred_70_pivot)\n",
    "\n",
    "# label plot\n",
    "plt.title(\"% of world countries by year \\nthat reaches Covid Herd Immunity (70% of their population)\\n\", size=18)\n",
    "plt.xlabel(\"\\nYear\")\n",
    "plt.ylabel(\"% world coutries \")\n",
    "plt.xticks(rotation = 90 )\n",
    "\n",
    "\n",
    "# show plot\n",
    "plt.show()"
   ]
  },
  {
   "cell_type": "markdown",
   "metadata": {},
   "source": [
    "<br>"
   ]
  },
  {
   "cell_type": "markdown",
   "metadata": {},
   "source": [
    "### Prediction of What Percentage of the Worlds Population Will Have Been Fully Vaccinated by a Provided Date\n",
    "\n",
    "Implementing univariant linear regression on people_fully_vaccinated by date worldwide. Providing a date, this section will predict what percentage and how many of the worlds population will have been fully vaccinated by this date.\n",
    "<br>"
   ]
  },
  {
   "cell_type": "code",
   "execution_count": 103,
   "metadata": {},
   "outputs": [],
   "source": [
    "# read in cleaned dataset to new data frame\n",
    "vaccination = pd.read_csv('data/cleaned_vaccination.csv')\n",
    "worldwide_pop = pd.read_csv('data/population_by_country_2020.csv')"
   ]
  },
  {
   "cell_type": "code",
   "execution_count": 104,
   "metadata": {},
   "outputs": [
    {
     "name": "stdout",
     "output_type": "stream",
     "text": [
      "(17607, 2)\n",
      "(235, 1)\n"
     ]
    }
   ],
   "source": [
    "# take only the columns of interest\n",
    "vaccination_6 = vaccination[['date', 'people_fully_vaccinated']]\n",
    "worldwide_pop = worldwide_pop[['Population (2020)']]\n",
    "\n",
    "# show their shape\n",
    "print(vaccination_6.shape)\n",
    "print(worldwide_pop.shape)"
   ]
  },
  {
   "cell_type": "code",
   "execution_count": 105,
   "metadata": {},
   "outputs": [
    {
     "name": "stdout",
     "output_type": "stream",
     "text": [
      "(7185, 2)\n",
      "(235, 1)\n"
     ]
    }
   ],
   "source": [
    "# drop all na rows where no data for people fully vaccinated per hundred\n",
    "vaccination_6 = vaccination_6[vaccination_6['people_fully_vaccinated'].notna()]\n",
    "worldwide_pop = worldwide_pop[worldwide_pop['Population (2020)'].notna()]\n",
    "\n",
    "# print the new shape\n",
    "print(vaccination_6.shape)\n",
    "print(worldwide_pop.shape)"
   ]
  },
  {
   "cell_type": "code",
   "execution_count": 106,
   "metadata": {},
   "outputs": [],
   "source": [
    "# change date object to date time and then ordinal to be used in linear regression\n",
    "vaccination_6 = date_to_ordinal_df(vaccination_6)"
   ]
  },
  {
   "cell_type": "code",
   "execution_count": 107,
   "metadata": {},
   "outputs": [],
   "source": [
    "# take the total world wide number of people vaccinated on each date\n",
    "world_total_vac_by_date = vaccination_6.groupby(['date']).people_fully_vaccinated.sum().reset_index()"
   ]
  },
  {
   "cell_type": "code",
   "execution_count": 108,
   "metadata": {},
   "outputs": [],
   "source": [
    "# determine the worlds population\n",
    "world_pop = worldwide_pop['Population (2020)'].sum()"
   ]
  },
  {
   "cell_type": "code",
   "execution_count": 109,
   "metadata": {},
   "outputs": [
    {
     "name": "stdout",
     "output_type": "stream",
     "text": [
      "The mean squared error of this model is 0.026.\n",
      "\n"
     ]
    },
    {
     "data": {
      "image/png": "[encoded data removed]",
      "text/plain": [
       "<Figure size 864x648 with 1 Axes>"
      ]
     },
     "metadata": {},
     "output_type": "display_data"
    }
   ],
   "source": [
    "# setup linear regression\n",
    "LR_world = LinearRegression()\n",
    "\n",
    "# get X and Y variables\n",
    "X_world = np.array(world_total_vac_by_date['date']).reshape((-1, 1))\n",
    "Y_world = np.array(world_total_vac_by_date['people_fully_vaccinated'])\n",
    "    \n",
    "# Split the training and test data using 30% for testing\n",
    "Xtrain, Xtest, Ytrain, Ytest = train_test_split(X_world, Y_world, test_size=0.3, random_state=19)\n",
    "    \n",
    "# train the model\n",
    "LR_world.fit(Xtrain, Ytrain)\n",
    "\n",
    "# test on test set\n",
    "predictions_world = LR_world.predict(Xtest)\n",
    "\n",
    "# calculate the mean square error\n",
    "mse_world = MSE(predictions_world, Ytest, 3)\n",
    "\n",
    "# show the MSE to determine how accurate the model is\n",
    "print(\"The mean squared error of this model is {0}.\".format(mse_world))\n",
    "print()\n",
    "\n",
    "# set labels\n",
    "plt.title(\"Date VS World Population\\n\",fontsize = 18,fontweight='bold')\n",
    "plt.ylabel(\"World Population\\n\",fontsize = 15,fontweight='bold')\n",
    "plt.xlabel(\"\\nDate\",fontsize = 15,fontweight='bold')\n",
    "\n",
    "# Plot LR\n",
    "plot_LR(ordinal_to_datetime_arr(X_world), Y_world, ordinal_to_datetime_arr(Xtest), predictions_world)"
   ]
  },
  {
   "cell_type": "code",
   "execution_count": 110,
   "metadata": {},
   "outputs": [
    {
     "name": "stdout",
     "output_type": "stream",
     "text": [
      "The total percentage of the worlds population fully vaccinated by 05/05/2022 is predicted to be 13.82%, which is 1079065128 people \n"
     ]
    }
   ],
   "source": [
    "# date we want to determine how much of the worlds population is vaccinated on\n",
    "date_world_str = \"05/05/2022\"\n",
    "\n",
    "# change date to ordinal data.\n",
    "date_world = date_to_ordinal(date_world_str)\n",
    "\n",
    "# determine the number of people fully vaccinated by this date using linear regression model\n",
    "world_pop_vac_by = LR_world.intercept_ + LR_world.coef_ * date_world\n",
    "\n",
    "\n",
    "# determine this as a percentage of the world\n",
    "percentage_of_people_fully_vaccinated = ((world_pop_vac_by/world_pop)*100)\n",
    "\n",
    "# print this data\n",
    "print (\"The total percentage of the worlds population fully vaccinated by {0} is predicted to be {1}%, which is {2} people \".format(date_world_str, round(percentage_of_people_fully_vaccinated[0], 2), round(world_pop_vac_by[0])))"
   ]
  },
  {
   "cell_type": "markdown",
   "metadata": {},
   "source": [
    " <br>"
   ]
  },
  {
   "cell_type": "markdown",
   "metadata": {},
   "source": [
    "### Prediction of What Date will the population be wholely vaccinated provided the current GDP, Population and vaccination percentage\n",
    "\n",
    "Implementing multiple linear regression on date by gdp value, population and vaccination percentage (people fully vaccinated per hundred). The purpose is for the machine using the given dataset to predict at what time will a given populace will be fully vaccinated with current gdp, population and current vacination percentage of that populace. \n"
   ]
  },
  {
   "cell_type": "code",
   "execution_count": 111,
   "metadata": {},
   "outputs": [],
   "source": [
    "\"\"\"\n",
    "    Function to predict the number of people in a given country being vaccinated for a given time, vaccination percentage, gdp\n",
    "    (multivariant regression using population, people fully vaccinated per hundred and gdp vs date)\n",
    "        a valid country in string format, and\n",
    "        a date in string format (DD/MM/YYYY)\n",
    "        a gdp value in decimal format\n",
    "    \"\"\"\n",
    "def vaccinated_people_by_pop_gdp(df, pop, percentage, gdp):\n",
    "    # try except to catch countries with no data in people_fully_vaccinated_per_hundred\n",
    "    try:\n",
    "        # create a linear regression model\n",
    "        LR = LinearRegression()\n",
    "    \n",
    "        # get X and Y variables\n",
    "        X = df[['Population (2020)', 'people_fully_vaccinated_per_hundred', '2019']].values\n",
    "        Y = df['date'].values\n",
    "\n",
    "        # Split the training and test data using 30% for testing\n",
    "        Xtrain, Xtest, Ytrain, Ytest = train_test_split(X, Y, test_size=0.3, random_state=19)\n",
    "\n",
    "        # train the model\n",
    "        LR.fit(Xtrain, Ytrain)\n",
    "    \n",
    "        # test on test set\n",
    "        predictions = LR.predict(Xtest)\n",
    "        \n",
    "        fig = plt.figure()\n",
    "        ax = fig.add_subplot(111, projection='3d')\n",
    "        ax.set_xlabel('Polulation (millions)')\n",
    "        ax.set_zlabel('Vaccination%')\n",
    "        ax.set_ylabel('GDP (trillions)')\n",
    "        ax.set_title(\"Population, GDP and Population Percentage Vaccinated by Date\\n\",fontsize = 18,fontweight='bold')\n",
    "        \n",
    "        x = df['Population (2020)']\n",
    "        y = df['2019']\n",
    "        z = df['people_fully_vaccinated_per_hundred']\n",
    "        c = df['date']\n",
    "\n",
    "        print(\"Coefficients for:\")\n",
    "        print(\"\\tPopulation (millions)\\t: {0:.5f}\".format(LR.coef_[0]))\n",
    "        print(\"\\tVaccination %\\t\\t: {0:.5f}\".format(LR.coef_[1]))\n",
    "        print(\"\\tGDP (trillion)\\t\\t: {0:.5f}\".format(LR.coef_[2]))\n",
    "        print(\"Intercept: \",LR.intercept_)\n",
    "        print(\"Scaled MSE value: {:.9f}\".format(MSE(predictions, Ytest, 9)))\n",
    "        print(\"MSE: {:.2f}\".format(metrics.mean_squared_error(predictions, Ytest)))\n",
    "        print(\"RMSE: {:.2f}\".format(np.sqrt(metrics.mean_squared_error(predictions, Ytest))))\n",
    "        \n",
    "        img = ax.scatter(x, y, z, c=c, cmap=plt.hot())\n",
    "        fig.colorbar(img)\n",
    "        plt.show()\n",
    "    \n",
    "        # return the number of people vaccinated at the given date\n",
    "        return LR.predict([[pop, percentage, gdp]])\n",
    "\n",
    "    except:\n",
    "        # if error has occured let user know\n",
    "        print(\"An error has occured\")\n",
    "        return False"
   ]
  },
  {
   "cell_type": "code",
   "execution_count": 112,
   "metadata": {},
   "outputs": [],
   "source": [
    "vaccination = pd.read_csv('data/cleaned_vaccination.csv')\n",
    "country_pop = pd.read_csv('data/population_by_country_2020.csv')\n",
    "country_gdp = pd.read_csv('data/API_NY.GDP.MKTP.CD_DS2_en_csv_v2_2163564.csv')\n",
    "\n",
    "# take only the columns of interest\n",
    "vaccination_7 = vaccination[['country', 'date', 'people_fully_vaccinated_per_hundred']]\n",
    "country_pop = country_pop[['Country (or dependency)','Population (2020)']]\n",
    "country_gdp = country_gdp[['Country Name','2019']]\n",
    "\n",
    "# merge tables for easier calculation\n",
    "vac_df = pd.merge(left = vaccination_7, right = country_pop, left_on = 'country', right_on='Country (or dependency)')\n",
    "vac_df = pd.merge(left = vac_df, right = country_gdp, left_on = 'country', right_on = 'Country Name')\n",
    "\n",
    "#clear extra columns and na values for people_fully_vaccinated_per_hundred\n",
    "vac_df = vac_df.drop(['Country (or dependency)', 'Country Name'], axis=1)\n",
    "vac_df = vac_df[vac_df['people_fully_vaccinated_per_hundred'].notna()]\n",
    "\n",
    "vac_df = vac_df.dropna()\n",
    "\n",
    "# change date object to date time and then ordinal to be used in linear regression\n",
    "vac_df = date_to_ordinal_df(vac_df)\n",
    "    \n",
    "\n",
    "vac_df['Population (2020)'] = vac_df['Population (2020)'] / (10**6)\n",
    "vac_df['2019'] = vac_df['2019']/(10**12)"
   ]
  },
  {
   "cell_type": "code",
   "execution_count": 113,
   "metadata": {},
   "outputs": [
    {
     "name": "stdout",
     "output_type": "stream",
     "text": [
      "0    146\n",
      "1     86\n",
      "2    116\n",
      "dtype: int64\n"
     ]
    }
   ],
   "source": [
    "# take just numerical columns and determine Z-score in new data frame called z-scores\n",
    "z_score_cols = vac_df[['people_fully_vaccinated_per_hundred', 'Population (2020)','2019']].copy()\n",
    "\n",
    "z_scores = pd.DataFrame(stats.zscore(z_score_cols, nan_policy='omit'))\n",
    "\n",
    "print(z_scores[z_scores > np.abs(3.0)].count())\n",
    "\n",
    "vac_df = vac_df[(np.abs(stats.zscore(vac_df.select_dtypes(exclude='object'))) < 3).all(axis=1)]"
   ]
  },
  {
   "cell_type": "code",
   "execution_count": 114,
   "metadata": {},
   "outputs": [
    {
     "name": "stdout",
     "output_type": "stream",
     "text": [
      "Coefficients for:\n",
      "\tPopulation (millions)\t: 0.09712\n",
      "\tVaccination %\t\t: 2.50279\n",
      "\tGDP (trillion)\t\t: -5.97426\n",
      "Intercept:  737862.8303318857\n",
      "Scaled MSE value: 0.000000002\n",
      "MSE: 905.75\n",
      "RMSE: 30.10\n"
     ]
    },
    {
     "data": {
      "image/png": "[encoded data removed]",
      "text/plain": [
       "<Figure size 864x648 with 2 Axes>"
      ]
     },
     "metadata": {},
     "output_type": "display_data"
    },
    {
     "name": "stdout",
     "output_type": "stream",
     "text": [
      "By 2021-09-28, 70% of the 330 million population, with a GDP of 1.40 trillion will be vaccinated\n"
     ]
    }
   ],
   "source": [
    "# determine a popualtion\n",
    "pop_multi = 330\n",
    "# determine the desired percentage\n",
    "percent_multi = 70\n",
    "# determine the  gdp\n",
    "gdp_multi = 1.4\n",
    "\n",
    "date_multi = vaccinated_people_by_pop_gdp(vac_df, pop_multi, percent_multi, gdp_multi)\n",
    "\n",
    "date_multi = ordinal_to_datetime(int(date_multi))\n",
    "print(\"By {0}, {3}% of the {1} million population, with a GDP of {2:.2f} trillion will be vaccinated\".format(date_multi, pop_multi, gdp_multi, percent_multi))"
   ]
  },
  {
   "cell_type": "markdown",
   "metadata": {},
   "source": [
    "# References\n",
    "\n",
    "1. Stackoverflow (2014, Aug. 5). <i>Extracting just Month and Year separately from Pandas Datetime column</i> [Forum]. Available: https://stackoverflow.com/questions/25146121/extracting-just-month-and-year-separately-from-pandas-datetime-column\n",
    "2. Stackoverflow (2017, Dec. 13). <i>Grouped bar plot</i> [Forum]. Available: https://stackoverflow.com/questions/47796264/function-to-create-grouped-bar-plot/47797080#47797080\n",
    "\n"
   ]
  }
 ],
 "metadata": {
  "kernelspec": {
   "display_name": "Python 3",
   "language": "python",
   "name": "python3"
  },
  "language_info": {
   "codemirror_mode": {
    "name": "ipython",
    "version": 3
   },
   "file_extension": ".py",
   "mimetype": "text/x-python",
   "name": "python",
   "nbconvert_exporter": "python",
   "pygments_lexer": "ipython3",
   "version": "3.8.5"
  }
 },
 "nbformat": 4,
 "nbformat_minor": 4
}
